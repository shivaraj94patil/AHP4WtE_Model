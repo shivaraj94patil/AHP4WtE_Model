{
 "cells": [
  {
   "cell_type": "code",
   "execution_count": 1,
   "id": "f56c9400-0f27-4bb8-be7f-c4ff4a07bfdf",
   "metadata": {},
   "outputs": [
    {
     "name": "stdout",
     "output_type": "stream",
     "text": [
      "Notebook version: 1.0.0\n"
     ]
    }
   ],
   "source": [
    "__version__ = \"1.0.0\"\n",
    "print(\"Notebook version:\", __version__)\n",
    "\n",
    "import os\n",
    "import sys\n",
    "import numpy as np\n",
    "import pandas as pd\n",
    "import matplotlib.pyplot as plt\n",
    "\n",
from src.data_handler import load_capex_data, capex_to_pairwise
from src.ahp_solver import compute_ahp_weights
    "# Create standard folders if missing\n",
    "os.makedirs(\"data\", exist_ok=True)\n",
    "os.makedirs(\"results\", exist_ok=True)\n",
    "os.makedirs(\"figures\", exist_ok=True)"
   ]
  },
  {
   "cell_type": "code",
   "execution_count": 2,
   "id": "69d228eb-7438-4940-b57a-2ae3caf405a3",
   "metadata": {},
   "outputs": [
    {
     "name": "stdout",
     "output_type": "stream",
     "text": [
      "Wrote example CSV to data/capex_input.csv\n"
     ]
    }
   ],
   "source": [
    "csv_path = \"data/capex_input.csv\"\n",
    "if not os.path.exists(csv_path):\n",
    "    df_example = pd.DataFrame({\n",
    "        \"alternative\": [\n",
    "            \"INC-Heating\",\"INC-Electricity\",\"AD\",\"PYR\",\"GAS\",\n",
    "            \"HTC\",\"Composting\",\"INC-H+CCS 85%\",\"INC-H+CCS 95%\",\n",
    "            \"INC-E+CCS 85%\",\"INC-E+CCS 95%\"\n",
    "        ],\n",
    "        \"capex_low\":  [348,522,218,476,544,275, 98,350,352,527,528],\n",
    "        \"capex_high\": [508,660,272,508,665,353,180,510,515,666,667]\n",
    "    })\n",
    "    df_example.to_csv(csv_path, index=False)\n",
    "    print(\"Wrote example CSV to\", csv_path)\n",
    "else:\n",
    "    print(\"Found CSV:\", csv_path)"
   ]
  },
  {
   "cell_type": "code",
   "execution_count": 3,
   "id": "7e5b7133-c876-4c75-9a06-d843ca3e1fcb",
   "metadata": {},
   "outputs": [
    {
     "data": {
      "text/html": [
       "<div>\n",
       "<style scoped>\n",
       "    .dataframe tbody tr th:only-of-type {\n",
       "        vertical-align: middle;\n",
       "    }\n",
       "\n",
       "    .dataframe tbody tr th {\n",
       "        vertical-align: top;\n",
       "    }\n",
       "\n",
       "    .dataframe thead th {\n",
       "        text-align: right;\n",
       "    }\n",
       "</style>\n",
       "<table border=\"1\" class=\"dataframe\">\n",
       "  <thead>\n",
       "    <tr style=\"text-align: right;\">\n",
       "      <th></th>\n",
       "      <th>alternative</th>\n",
       "      <th>capex_low</th>\n",
       "      <th>capex_high</th>\n",
       "      <th>capex_mid</th>\n",
       "    </tr>\n",
       "  </thead>\n",
       "  <tbody>\n",
       "    <tr>\n",
       "      <th>0</th>\n",
       "      <td>INC-Heating</td>\n",
       "      <td>348</td>\n",
       "      <td>508</td>\n",
       "      <td>428.0</td>\n",
       "    </tr>\n",
       "    <tr>\n",
       "      <th>1</th>\n",
       "      <td>INC-Electricity</td>\n",
       "      <td>522</td>\n",
       "      <td>660</td>\n",
       "      <td>591.0</td>\n",
       "    </tr>\n",
       "    <tr>\n",
       "      <th>2</th>\n",
       "      <td>AD</td>\n",
       "      <td>218</td>\n",
       "      <td>272</td>\n",
       "      <td>245.0</td>\n",
       "    </tr>\n",
       "    <tr>\n",
       "      <th>3</th>\n",
       "      <td>PYR</td>\n",
       "      <td>476</td>\n",
       "      <td>508</td>\n",
       "      <td>492.0</td>\n",
       "    </tr>\n",
       "    <tr>\n",
       "      <th>4</th>\n",
       "      <td>GAS</td>\n",
       "      <td>544</td>\n",
       "      <td>665</td>\n",
       "      <td>604.5</td>\n",
       "    </tr>\n",
       "  </tbody>\n",
       "</table>\n",
       "</div>"
      ],
      "text/plain": [
       "       alternative  capex_low  capex_high  capex_mid\n",
       "0      INC-Heating        348         508      428.0\n",
       "1  INC-Electricity        522         660      591.0\n",
       "2               AD        218         272      245.0\n",
       "3              PYR        476         508      492.0\n",
       "4              GAS        544         665      604.5"
      ]
     },
     "metadata": {},
     "output_type": "display_data"
    },
    {
     "name": "stdout",
     "output_type": "stream",
     "text": [
      "Rows: 11 | Missing values: 0\n"
     ]
    }
   ],
   "source": [
    "df = pd.read_csv(\"data/capex_input.csv\")  # required columns: alternative, capex_low, capex_high\n",
    "required_cols = {\"alternative\",\"capex_low\",\"capex_high\"}\n",
    "if not required_cols.issubset(df.columns):\n",
    "    raise ValueError(f\"CSV must contain columns: {required_cols}\")\n",
    "\n",
    "# Representative value = midpoint of range\n",
    "df[\"capex_mid\"] = (df[\"capex_low\"] + df[\"capex_high\"]) / 2.0\n",
    "\n",
    "display(df.head())\n",
    "print(\"Rows:\", len(df), \"| Missing values:\", int(df.isna().sum().sum()))"
   ]
  },
  {
   "cell_type": "code",
   "execution_count": 4,
   "id": "e475024d-10a4-4e3d-96c9-1b6bfd26ec5c",
   "metadata": {},
   "outputs": [
    {
     "name": "stdout",
     "output_type": "stream",
     "text": [
      "Pairwise matrix shape: (11, 11)\n"
     ]
    }
   ],
   "source": [
    "def pairwise_from_cost(values: np.ndarray) -> np.ndarray:\n",
    "    \"\"\"\n",
    "    Build an AHP pairwise matrix for a cost-type metric.\n",
    "    a_ij = cost_j / cost_i, so lower cost => higher preference.\n",
    "    \"\"\"\n",
    "    n = len(values)\n",
    "    A = np.ones((n, n), dtype=float)\n",
    "    for i in range(n):\n",
    "        for j in range(n):\n",
    "            A[i, j] = values[j] / values[i]\n",
    "    return A\n",
    "\n",
    "alts = df[\"alternative\"].tolist()\n",
    "capex = df[\"capex_mid\"].to_numpy(float)\n",
    "A = pairwise_from_cost(capex)\n",
    "\n",
    "print(\"Pairwise matrix shape:\", A.shape)\n",
    "# If you want to mimic manual judgments bounded to Saaty's 1–9 scale, uncomment:\n",
    "# A = np.clip(A, 1/9, 9)"
   ]
  },
  {
   "cell_type": "code",
   "execution_count": 5,
   "id": "4dcd743b-9b95-4db0-abe0-0bad58b560f9",
   "metadata": {},
   "outputs": [
    {
     "name": "stdout",
     "output_type": "stream",
     "text": [
      "λ_max: 11.0000   CI: 0.0000   CR: 0.0000\n"
     ]
    }
   ],
   "source": [
    "# Saaty Random Index (RI)\n",
    "RI = {1:0.00,2:0.00,3:0.58,4:0.90,5:1.12,6:1.24,7:1.32,8:1.41,9:1.45,10:1.49,11:1.51,12:1.48,13:1.56,14:1.57,15:1.59}\n",
    "\n",
    "eigvals, eigvecs = np.linalg.eig(A)\n",
    "k = np.argmax(eigvals.real)\n",
    "lam_max = eigvals.real[k]\n",
    "w = np.abs(eigvecs[:, k].real)\n",
    "w = w / w.sum()\n",
    "\n",
    "n = A.shape[0]\n",
    "CI = (lam_max - n) / (n - 1) if n > 2 else 0.0\n",
    "CR = CI / RI.get(n, 1.59) if RI.get(n, 0) > 0 else 0.0\n",
    "\n",
    "print(f\"λ_max: {lam_max:.4f}   CI: {CI:.4f}   CR: {CR:.4f}\")"
   ]
  },
  {
   "cell_type": "code",
   "execution_count": 6,
   "id": "4d226781-d74d-4312-ba13-7a59df63c5b4",
   "metadata": {},
   "outputs": [
    {
     "name": "stdout",
     "output_type": "stream",
     "text": [
      "\n",
      "Priority vector under CAPEX (lower cost preferred):\n",
      "  Composting            0.2385\n",
      "  AD                    0.1353\n",
      "  HTC                   0.1056\n",
      "  INC-Heating           0.0775\n",
      "  INC-H+CCS 85%         0.0771\n",
      "  INC-H+CCS 95%         0.0765\n",
      "  PYR                   0.0674\n",
      "  INC-Electricity       0.0561\n",
      "  INC-E+CCS 85%         0.0556\n",
      "  INC-E+CCS 95%         0.0555\n",
      "  GAS                   0.0549\n"
     ]
    }
   ],
   "source": [
    "ranking = sorted(zip(alts, w), key=lambda x: x[1], reverse=True)\n",
    "\n",
    "print(\"\\nPriority vector under CAPEX (lower cost preferred):\")\n",
    "for name, weight in ranking:\n",
    "    print(f\"  {name:20s}  {weight:.4f}\")"
   ]
  },
  {
   "cell_type": "code",
   "execution_count": 7,
   "id": "98909224-4805-4aa7-a395-8666e60415df",
   "metadata": {},
   "outputs": [
    {
     "data": {
      "image/png": "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",
      "text/plain": [
       "<Figure size 800x500 with 1 Axes>"
      ]
     },
     "metadata": {},
     "output_type": "display_data"
    },
    {
     "name": "stdout",
     "output_type": "stream",
     "text": [
      "Saved: results/capex_pairwise_matrix.csv results/capex_priorities.csv figures/capex_ranking.png\n"
     ]
    }
   ],
   "source": [
    "# Save CSV artifacts for transparency / paper figures\n",
    "pd.DataFrame(A, index=alts, columns=alts).to_csv(\"results/capex_pairwise_matrix.csv\")\n",
    "pd.DataFrame({\"alternative\": alts, \"weight\": w}).to_csv(\"results/capex_priorities.csv\", index=False)\n",
    "\n",
    "# Plot\n",
    "names, weights = zip(*ranking)\n",
    "y = np.arange(len(names))\n",
    "\n",
    "fig, ax = plt.subplots(figsize=(8,5))\n",
    "bars = ax.barh(y, weights)\n",
    "ax.set_yticks(y)\n",
    "ax.set_yticklabels(names)\n",
    "ax.invert_yaxis()  # highest at top\n",
    "ax.set_xlabel(\"Priority weight\")\n",
    "ax.set_title(\"AHP4WTE — CAPEX Priority Ranking\")\n",
    "\n",
    "# Label bars\n",
    "for i, v in enumerate(weights):\n",
    "    ax.text(v + 0.003, i, f\"{v:.3f}\", va=\"center\", fontsize=9)\n",
    "\n",
    "plt.tight_layout()\n",
    "plt.savefig(\"figures/capex_ranking.png\", dpi=300)\n",
    "plt.show()\n",
    "\n",
    "print(\"Saved:\", \"results/capex_pairwise_matrix.csv\", \"results/capex_priorities.csv\", \"figures/capex_ranking.png\")"
   ]
  },
  {
   "cell_type": "code",
   "execution_count": 10,
   "id": "59ca5f3c-3ac7-414d-b461-a6f5917be3fa",
   "metadata": {},
   "outputs": [
    {
     "name": "stdout",
     "output_type": "stream",
     "text": [
      "Python  : 3.12.0\n",
      "NumPy   : 2.3.2\n",
      "Pandas  : 2.3.1\n",
      "Matplotlib: 3.10.5\n",
      "Repo & docs: https://https://github.com/shivaraj94patil/AHP4WtE_Model\n"
     ]
    }
   ],
   "source": [
    "import numpy, pandas, matplotlib\n",
    "print(\"Python  :\", sys.version.split()[0])\n",
    "print(\"NumPy   :\", numpy.__version__)\n",
    "print(\"Pandas  :\", pandas.__version__)\n",
    "print(\"Matplotlib:\", matplotlib.__version__)\n",
    "print(\"Repo & docs: https://https://github.com/shivaraj94patil/AHP4WtE_Model\")"
   ]
  },
  {
   "cell_type": "code",
   "execution_count": null,
   "id": "8a8f82ba-db63-4648-a1b7-9d7c96426d0f",
   "metadata": {},
   "outputs": [],
   "source": []
  }
 ],
 "metadata": {
  "kernelspec": {
   "display_name": "Python 3 (ipykernel)",
   "language": "python",
   "name": "python3"
  },
  "language_info": {
   "codemirror_mode": {
    "name": "ipython",
    "version": 3
   },
   "file_extension": ".py",
   "mimetype": "text/x-python",
   "name": "python",
   "nbconvert_exporter": "python",
   "pygments_lexer": "ipython3",
   "version": "3.12.0"
  }
 },
 "nbformat": 4,
 "nbformat_minor": 5
}
